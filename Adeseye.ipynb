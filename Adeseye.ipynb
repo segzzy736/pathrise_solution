{
 "cells": [
  {
   "cell_type": "markdown",
   "metadata": {},
   "source": [
    "## Introduction"
   ]
  },
  {
   "cell_type": "markdown",
   "metadata": {},
   "source": [
    "In other to gain insight into this problem we divide our analysis into\n",
    "\n",
    "two main sections, the exploratory data analysis section and the predictive \n",
    "\n",
    "analysis section. In the first section of exploratory data analysis we gain \n",
    "\n",
    "a good understanding of the data and many of its characteristics. using this\n",
    "\n",
    "analysis we draw some conclusions about features of the data and some of its\n",
    "\n",
    "variables. The analysis of the first section yields important information and\n",
    "\n",
    "insight in preparation for carrying out the analysis in the second section. In the \n",
    "\n",
    "second section we perform the predictive analytics steps aimed at predicting\n",
    "\n",
    "two variables of the datasets, the placed variable and the length of time in program\n",
    "\n",
    "variables. This analysis consist of several steps steps starting with preprocessing\n",
    "\n",
    "of the dataset and culminating in presenting the result of several predictive models\n",
    "\n",
    "which can be deployed to predict new unseen sample of the dataset. \n",
    "\n",
    "\n"
   ]
  },
  {
   "cell_type": "markdown",
   "metadata": {},
   "source": [
    "## Exploratory Data Analysis"
   ]
  },
  {
   "cell_type": "code",
   "execution_count": 60,
   "metadata": {},
   "outputs": [],
   "source": [
    "import numpy as np\n",
    "import pandas as pd\n",
    "import matplotlib.pyplot as plt\n",
    "import seaborn as sns\n",
    "from collections import defaultdict\n",
    "import scipy.stats as ss\n",
    "from sklearn.model_selection import train_test_split\n",
    "%matplotlib inline\n",
    "\n",
    "import warnings \n",
    "warnings.filterwarnings('ignore')\n",
    "import pandas.util.testing as tm"
   ]
  },
  {
   "cell_type": "markdown",
   "metadata": {},
   "source": [
    "We load the dataset into a pandas dataframe and observe the number of samples\n",
    "\n",
    "and variables. We view the first few rows of the dataset using data.head(). We notice that some\n",
    "\n",
    "variables have NAN  or missing values.\n"
   ]
  },
  {
   "cell_type": "code",
   "execution_count": 2,
   "metadata": {
    "scrolled": true
   },
   "outputs": [
    {
     "name": "stdout",
     "output_type": "stream",
     "text": [
      "(2544, 16)\n"
     ]
    }
   ],
   "source": [
    "data = pd.read_excel('Data_Pathrise.xlsx')\n",
    "print(data.shape)\n"
   ]
  },
  {
   "cell_type": "code",
   "execution_count": 3,
   "metadata": {
    "scrolled": false
   },
   "outputs": [
    {
     "data": {
      "text/html": [
       "<div>\n",
       "<style scoped>\n",
       "    .dataframe tbody tr th:only-of-type {\n",
       "        vertical-align: middle;\n",
       "    }\n",
       "\n",
       "    .dataframe tbody tr th {\n",
       "        vertical-align: top;\n",
       "    }\n",
       "\n",
       "    .dataframe thead th {\n",
       "        text-align: right;\n",
       "    }\n",
       "</style>\n",
       "<table border=\"1\" class=\"dataframe\">\n",
       "  <thead>\n",
       "    <tr style=\"text-align: right;\">\n",
       "      <th></th>\n",
       "      <th>id</th>\n",
       "      <th>pathrise_status</th>\n",
       "      <th>primary_track</th>\n",
       "      <th>cohort_tag</th>\n",
       "      <th>program_duration_days</th>\n",
       "      <th>placed</th>\n",
       "      <th>employment_status</th>\n",
       "      <th>highest_level_of_education</th>\n",
       "      <th>length_of_job_search</th>\n",
       "      <th>biggest_challenge_in_search</th>\n",
       "      <th>professional_experience</th>\n",
       "      <th>work_authorization_status</th>\n",
       "      <th>number_of_interviews</th>\n",
       "      <th>number_of_applications</th>\n",
       "      <th>gender</th>\n",
       "      <th>race</th>\n",
       "    </tr>\n",
       "  </thead>\n",
       "  <tbody>\n",
       "    <tr>\n",
       "      <th>0</th>\n",
       "      <td>1</td>\n",
       "      <td>Active</td>\n",
       "      <td>SWE</td>\n",
       "      <td>OCT19A</td>\n",
       "      <td>NaN</td>\n",
       "      <td>0</td>\n",
       "      <td>Unemployed</td>\n",
       "      <td>Bachelor's Degree</td>\n",
       "      <td>3-5 months</td>\n",
       "      <td>Hearing back on my applications</td>\n",
       "      <td>3-4 years</td>\n",
       "      <td>Canada Citizen</td>\n",
       "      <td>2.0</td>\n",
       "      <td>900</td>\n",
       "      <td>Male</td>\n",
       "      <td>Non-Hispanic White or Euro-American</td>\n",
       "    </tr>\n",
       "    <tr>\n",
       "      <th>1</th>\n",
       "      <td>2</td>\n",
       "      <td>Active</td>\n",
       "      <td>PSO</td>\n",
       "      <td>JAN20A</td>\n",
       "      <td>NaN</td>\n",
       "      <td>0</td>\n",
       "      <td>Unemployed</td>\n",
       "      <td>Some College, No Degree</td>\n",
       "      <td>3-5 months</td>\n",
       "      <td>Getting past final round interviews</td>\n",
       "      <td>1-2 years</td>\n",
       "      <td>Citizen</td>\n",
       "      <td>6.0</td>\n",
       "      <td>0</td>\n",
       "      <td>Male</td>\n",
       "      <td>Non-Hispanic White or Euro-American</td>\n",
       "    </tr>\n",
       "    <tr>\n",
       "      <th>2</th>\n",
       "      <td>3</td>\n",
       "      <td>Closed Lost</td>\n",
       "      <td>Design</td>\n",
       "      <td>AUG19B</td>\n",
       "      <td>0.0</td>\n",
       "      <td>0</td>\n",
       "      <td>Employed Part-Time</td>\n",
       "      <td>Master's Degree</td>\n",
       "      <td>Less than one month</td>\n",
       "      <td>Figuring out which jobs to apply for</td>\n",
       "      <td>Less than one year</td>\n",
       "      <td>Citizen</td>\n",
       "      <td>0.0</td>\n",
       "      <td>0</td>\n",
       "      <td>Male</td>\n",
       "      <td>East Asian or Asian American</td>\n",
       "    </tr>\n",
       "    <tr>\n",
       "      <th>3</th>\n",
       "      <td>4</td>\n",
       "      <td>Closed Lost</td>\n",
       "      <td>PSO</td>\n",
       "      <td>AUG19B</td>\n",
       "      <td>0.0</td>\n",
       "      <td>0</td>\n",
       "      <td>Contractor</td>\n",
       "      <td>Bachelor's Degree</td>\n",
       "      <td>Less than one month</td>\n",
       "      <td>Getting past final round interviews</td>\n",
       "      <td>Less than one year</td>\n",
       "      <td>Citizen</td>\n",
       "      <td>5.0</td>\n",
       "      <td>25</td>\n",
       "      <td>Male</td>\n",
       "      <td>Decline to Self Identify</td>\n",
       "    </tr>\n",
       "    <tr>\n",
       "      <th>4</th>\n",
       "      <td>5</td>\n",
       "      <td>Placed</td>\n",
       "      <td>SWE</td>\n",
       "      <td>AUG19A</td>\n",
       "      <td>89.0</td>\n",
       "      <td>1</td>\n",
       "      <td>Unemployed</td>\n",
       "      <td>Bachelor's Degree</td>\n",
       "      <td>1-2 months</td>\n",
       "      <td>Hearing back on my applications</td>\n",
       "      <td>1-2 years</td>\n",
       "      <td>F1 Visa/OPT</td>\n",
       "      <td>10.0</td>\n",
       "      <td>100</td>\n",
       "      <td>Male</td>\n",
       "      <td>East Asian or Asian American</td>\n",
       "    </tr>\n",
       "  </tbody>\n",
       "</table>\n",
       "</div>"
      ],
      "text/plain": [
       "   id pathrise_status primary_track cohort_tag  program_duration_days  placed  \\\n",
       "0   1          Active           SWE     OCT19A                    NaN       0   \n",
       "1   2          Active           PSO     JAN20A                    NaN       0   \n",
       "2   3     Closed Lost        Design     AUG19B                    0.0       0   \n",
       "3   4     Closed Lost           PSO     AUG19B                    0.0       0   \n",
       "4   5          Placed           SWE     AUG19A                   89.0       1   \n",
       "\n",
       "   employment_status  highest_level_of_education length_of_job_search  \\\n",
       "0          Unemployed          Bachelor's Degree           3-5 months   \n",
       "1          Unemployed    Some College, No Degree           3-5 months   \n",
       "2  Employed Part-Time            Master's Degree  Less than one month   \n",
       "3          Contractor          Bachelor's Degree  Less than one month   \n",
       "4          Unemployed          Bachelor's Degree           1-2 months   \n",
       "\n",
       "            biggest_challenge_in_search professional_experience  \\\n",
       "0       Hearing back on my applications               3-4 years   \n",
       "1   Getting past final round interviews               1-2 years   \n",
       "2  Figuring out which jobs to apply for      Less than one year   \n",
       "3   Getting past final round interviews      Less than one year   \n",
       "4       Hearing back on my applications               1-2 years   \n",
       "\n",
       "  work_authorization_status  number_of_interviews  number_of_applications  \\\n",
       "0            Canada Citizen                   2.0                     900   \n",
       "1                   Citizen                   6.0                       0   \n",
       "2                   Citizen                   0.0                       0   \n",
       "3                   Citizen                   5.0                      25   \n",
       "4               F1 Visa/OPT                  10.0                     100   \n",
       "\n",
       "  gender                                 race  \n",
       "0   Male  Non-Hispanic White or Euro-American  \n",
       "1   Male  Non-Hispanic White or Euro-American  \n",
       "2   Male         East Asian or Asian American  \n",
       "3   Male             Decline to Self Identify  \n",
       "4   Male         East Asian or Asian American  "
      ]
     },
     "execution_count": 3,
     "metadata": {},
     "output_type": "execute_result"
    }
   ],
   "source": [
    "data.head()"
   ]
  },
  {
   "cell_type": "markdown",
   "metadata": {},
   "source": [
    "we obtain a more detailed summary of the dataset using df.info() and df.describe()\n",
    "\n",
    "from the result above we see that most of the variables have missing values.\n",
    "\n",
    "we obtain summary of a few of the numerical variables to that the average \n",
    "\n",
    "placement rate for the entire dataset is about 0.376. The average number of\n",
    "\n",
    "interview is 2.18 and the average number of application is 36.50, while the\n",
    "\n",
    "average program duration days is roughly 136 days. The 25th, 50th and 75th\n",
    "\n",
    "percentiles of these variables as well as other metrics are also reported in table above.\n",
    "\n",
    "computing these same metrics for subset of applicants who are african americans or Black or\n",
    "\n",
    "Afro-caribbean. we find a placement rate of 0.24 for these group significantly less than the\n",
    "\n",
    "entire group while the mean of the other variables tend to similar in values to the ones obtained \n",
    "\n",
    "for the entire group.  \n",
    "\n",
    "\n",
    "histogram plots of some of the numerical variables shows the distribution of those variables\n",
    "\n",
    "\n",
    "\n"
   ]
  },
  {
   "cell_type": "code",
   "execution_count": 6,
   "metadata": {
    "scrolled": true
   },
   "outputs": [
    {
     "name": "stdout",
     "output_type": "stream",
     "text": [
      "<class 'pandas.core.frame.DataFrame'>\n",
      "RangeIndex: 2544 entries, 0 to 2543\n",
      "Data columns (total 16 columns):\n",
      " #   Column                       Non-Null Count  Dtype  \n",
      "---  ------                       --------------  -----  \n",
      " 0   id                           2544 non-null   int64  \n",
      " 1   pathrise_status              2544 non-null   object \n",
      " 2   primary_track                2544 non-null   object \n",
      " 3   cohort_tag                   2536 non-null   object \n",
      " 4   program_duration_days        1928 non-null   float64\n",
      " 5   placed                       2544 non-null   int64  \n",
      " 6   employment_status            2315 non-null   object \n",
      " 7   highest_level_of_education   2486 non-null   object \n",
      " 8   length_of_job_search         2470 non-null   object \n",
      " 9   biggest_challenge_in_search  2520 non-null   object \n",
      " 10  professional_experience      2322 non-null   object \n",
      " 11  work_authorization_status    2260 non-null   object \n",
      " 12  number_of_interviews         2326 non-null   float64\n",
      " 13  number_of_applications       2544 non-null   int64  \n",
      " 14  gender                       2052 non-null   object \n",
      " 15  race                         2526 non-null   object \n",
      "dtypes: float64(2), int64(3), object(11)\n",
      "memory usage: 318.1+ KB\n"
     ]
    }
   ],
   "source": [
    "data.info()"
   ]
  },
  {
   "cell_type": "code",
   "execution_count": 7,
   "metadata": {},
   "outputs": [
    {
     "data": {
      "text/html": [
       "<div>\n",
       "<style scoped>\n",
       "    .dataframe tbody tr th:only-of-type {\n",
       "        vertical-align: middle;\n",
       "    }\n",
       "\n",
       "    .dataframe tbody tr th {\n",
       "        vertical-align: top;\n",
       "    }\n",
       "\n",
       "    .dataframe thead th {\n",
       "        text-align: right;\n",
       "    }\n",
       "</style>\n",
       "<table border=\"1\" class=\"dataframe\">\n",
       "  <thead>\n",
       "    <tr style=\"text-align: right;\">\n",
       "      <th></th>\n",
       "      <th>id</th>\n",
       "      <th>program_duration_days</th>\n",
       "      <th>placed</th>\n",
       "      <th>number_of_interviews</th>\n",
       "      <th>number_of_applications</th>\n",
       "    </tr>\n",
       "  </thead>\n",
       "  <tbody>\n",
       "    <tr>\n",
       "      <th>count</th>\n",
       "      <td>2544.000000</td>\n",
       "      <td>1928.000000</td>\n",
       "      <td>2544.000000</td>\n",
       "      <td>2326.000000</td>\n",
       "      <td>2544.000000</td>\n",
       "    </tr>\n",
       "    <tr>\n",
       "      <th>mean</th>\n",
       "      <td>1272.500000</td>\n",
       "      <td>136.098548</td>\n",
       "      <td>0.375786</td>\n",
       "      <td>2.182287</td>\n",
       "      <td>36.500786</td>\n",
       "    </tr>\n",
       "    <tr>\n",
       "      <th>std</th>\n",
       "      <td>734.533866</td>\n",
       "      <td>125.860248</td>\n",
       "      <td>0.484420</td>\n",
       "      <td>2.959273</td>\n",
       "      <td>53.654896</td>\n",
       "    </tr>\n",
       "    <tr>\n",
       "      <th>min</th>\n",
       "      <td>1.000000</td>\n",
       "      <td>0.000000</td>\n",
       "      <td>0.000000</td>\n",
       "      <td>0.000000</td>\n",
       "      <td>0.000000</td>\n",
       "    </tr>\n",
       "    <tr>\n",
       "      <th>25%</th>\n",
       "      <td>636.750000</td>\n",
       "      <td>14.000000</td>\n",
       "      <td>0.000000</td>\n",
       "      <td>0.000000</td>\n",
       "      <td>9.000000</td>\n",
       "    </tr>\n",
       "    <tr>\n",
       "      <th>50%</th>\n",
       "      <td>1272.500000</td>\n",
       "      <td>112.000000</td>\n",
       "      <td>0.000000</td>\n",
       "      <td>1.000000</td>\n",
       "      <td>20.000000</td>\n",
       "    </tr>\n",
       "    <tr>\n",
       "      <th>75%</th>\n",
       "      <td>1908.250000</td>\n",
       "      <td>224.000000</td>\n",
       "      <td>1.000000</td>\n",
       "      <td>3.000000</td>\n",
       "      <td>45.000000</td>\n",
       "    </tr>\n",
       "    <tr>\n",
       "      <th>max</th>\n",
       "      <td>2544.000000</td>\n",
       "      <td>548.000000</td>\n",
       "      <td>1.000000</td>\n",
       "      <td>20.000000</td>\n",
       "      <td>1000.000000</td>\n",
       "    </tr>\n",
       "  </tbody>\n",
       "</table>\n",
       "</div>"
      ],
      "text/plain": [
       "                id  program_duration_days       placed  number_of_interviews  \\\n",
       "count  2544.000000            1928.000000  2544.000000           2326.000000   \n",
       "mean   1272.500000             136.098548     0.375786              2.182287   \n",
       "std     734.533866             125.860248     0.484420              2.959273   \n",
       "min       1.000000               0.000000     0.000000              0.000000   \n",
       "25%     636.750000              14.000000     0.000000              0.000000   \n",
       "50%    1272.500000             112.000000     0.000000              1.000000   \n",
       "75%    1908.250000             224.000000     1.000000              3.000000   \n",
       "max    2544.000000             548.000000     1.000000             20.000000   \n",
       "\n",
       "       number_of_applications  \n",
       "count             2544.000000  \n",
       "mean                36.500786  \n",
       "std                 53.654896  \n",
       "min                  0.000000  \n",
       "25%                  9.000000  \n",
       "50%                 20.000000  \n",
       "75%                 45.000000  \n",
       "max               1000.000000  "
      ]
     },
     "execution_count": 7,
     "metadata": {},
     "output_type": "execute_result"
    }
   ],
   "source": [
    "#numerical columns description\n",
    "data1=data[['program_duration_days','number_of_interviews','number_of_applications']]\n",
    "data.describe()"
   ]
  },
  {
   "cell_type": "code",
   "execution_count": 8,
   "metadata": {
    "scrolled": true
   },
   "outputs": [],
   "source": [
    "data2=data[data.race.isin(['Black, Afro-Caribbean, or African American'])]\n",
    "\n"
   ]
  },
  {
   "cell_type": "code",
   "execution_count": 9,
   "metadata": {
    "scrolled": true
   },
   "outputs": [
    {
     "data": {
      "text/html": [
       "<div>\n",
       "<style scoped>\n",
       "    .dataframe tbody tr th:only-of-type {\n",
       "        vertical-align: middle;\n",
       "    }\n",
       "\n",
       "    .dataframe tbody tr th {\n",
       "        vertical-align: top;\n",
       "    }\n",
       "\n",
       "    .dataframe thead th {\n",
       "        text-align: right;\n",
       "    }\n",
       "</style>\n",
       "<table border=\"1\" class=\"dataframe\">\n",
       "  <thead>\n",
       "    <tr style=\"text-align: right;\">\n",
       "      <th></th>\n",
       "      <th>id</th>\n",
       "      <th>program_duration_days</th>\n",
       "      <th>placed</th>\n",
       "      <th>number_of_interviews</th>\n",
       "      <th>number_of_applications</th>\n",
       "    </tr>\n",
       "  </thead>\n",
       "  <tbody>\n",
       "    <tr>\n",
       "      <th>count</th>\n",
       "      <td>126.000000</td>\n",
       "      <td>91.000000</td>\n",
       "      <td>126.000000</td>\n",
       "      <td>115.000000</td>\n",
       "      <td>126.000000</td>\n",
       "    </tr>\n",
       "    <tr>\n",
       "      <th>mean</th>\n",
       "      <td>1314.888889</td>\n",
       "      <td>133.824176</td>\n",
       "      <td>0.246032</td>\n",
       "      <td>2.191304</td>\n",
       "      <td>34.698413</td>\n",
       "    </tr>\n",
       "    <tr>\n",
       "      <th>std</th>\n",
       "      <td>758.093717</td>\n",
       "      <td>151.917419</td>\n",
       "      <td>0.432417</td>\n",
       "      <td>3.164761</td>\n",
       "      <td>50.830584</td>\n",
       "    </tr>\n",
       "    <tr>\n",
       "      <th>min</th>\n",
       "      <td>7.000000</td>\n",
       "      <td>0.000000</td>\n",
       "      <td>0.000000</td>\n",
       "      <td>0.000000</td>\n",
       "      <td>0.000000</td>\n",
       "    </tr>\n",
       "    <tr>\n",
       "      <th>25%</th>\n",
       "      <td>568.250000</td>\n",
       "      <td>3.500000</td>\n",
       "      <td>0.000000</td>\n",
       "      <td>0.000000</td>\n",
       "      <td>8.000000</td>\n",
       "    </tr>\n",
       "    <tr>\n",
       "      <th>50%</th>\n",
       "      <td>1459.500000</td>\n",
       "      <td>61.000000</td>\n",
       "      <td>0.000000</td>\n",
       "      <td>1.000000</td>\n",
       "      <td>15.000000</td>\n",
       "    </tr>\n",
       "    <tr>\n",
       "      <th>75%</th>\n",
       "      <td>1868.250000</td>\n",
       "      <td>244.500000</td>\n",
       "      <td>0.000000</td>\n",
       "      <td>3.000000</td>\n",
       "      <td>40.000000</td>\n",
       "    </tr>\n",
       "    <tr>\n",
       "      <th>max</th>\n",
       "      <td>2533.000000</td>\n",
       "      <td>522.000000</td>\n",
       "      <td>1.000000</td>\n",
       "      <td>20.000000</td>\n",
       "      <td>350.000000</td>\n",
       "    </tr>\n",
       "  </tbody>\n",
       "</table>\n",
       "</div>"
      ],
      "text/plain": [
       "                id  program_duration_days      placed  number_of_interviews  \\\n",
       "count   126.000000              91.000000  126.000000            115.000000   \n",
       "mean   1314.888889             133.824176    0.246032              2.191304   \n",
       "std     758.093717             151.917419    0.432417              3.164761   \n",
       "min       7.000000               0.000000    0.000000              0.000000   \n",
       "25%     568.250000               3.500000    0.000000              0.000000   \n",
       "50%    1459.500000              61.000000    0.000000              1.000000   \n",
       "75%    1868.250000             244.500000    0.000000              3.000000   \n",
       "max    2533.000000             522.000000    1.000000             20.000000   \n",
       "\n",
       "       number_of_applications  \n",
       "count              126.000000  \n",
       "mean                34.698413  \n",
       "std                 50.830584  \n",
       "min                  0.000000  \n",
       "25%                  8.000000  \n",
       "50%                 15.000000  \n",
       "75%                 40.000000  \n",
       "max                350.000000  "
      ]
     },
     "execution_count": 9,
     "metadata": {},
     "output_type": "execute_result"
    }
   ],
   "source": [
    "data2.describe()"
   ]
  },
  {
   "cell_type": "code",
   "execution_count": 10,
   "metadata": {
    "scrolled": true
   },
   "outputs": [
    {
     "data": {
      "text/plain": [
       "<matplotlib.axes._subplots.AxesSubplot at 0x15906739fa0>"
      ]
     },
     "execution_count": 10,
     "metadata": {},
     "output_type": "execute_result"
    },
    {
     "data": {
      "image/png": "[encoded data removed]",
      "text/plain": [
       "<Figure size 432x288 with 1 Axes>"
      ]
     },
     "metadata": {
      "needs_background": "light"
     },
     "output_type": "display_data"
    },
    {
     "data": {
      "image/png": "[encoded data removed]",
      "text/plain": [
       "<Figure size 432x288 with 1 Axes>"
      ]
     },
     "metadata": {
      "needs_background": "light"
     },
     "output_type": "display_data"
    },
    {
     "data": {
      "image/png": "[encoded data removed]",
      "text/plain": [
       "<Figure size 432x288 with 1 Axes>"
      ]
     },
     "metadata": {
      "needs_background": "light"
     },
     "output_type": "display_data"
    },
    {
     "data": {
      "image/png": "[encoded data removed]",
      "text/plain": [
       "<Figure size 432x288 with 1 Axes>"
      ]
     },
     "metadata": {
      "needs_background": "light"
     },
     "output_type": "display_data"
    }
   ],
   "source": [
    "data[['program_duration_days']].plot.hist(bins = 20, title = 'program_duration_days Distribution')\n",
    "data[['number_of_interviews']].plot.hist(bins = 20, title = 'number_of_interviews Distribution')\n",
    "data[['placed']].plot.hist(bins = 20, title = 'placed')\n",
    "data[['number_of_applications']].plot.hist(bins = 20, title = 'number_of_applications')\n"
   ]
  },
  {
   "cell_type": "code",
   "execution_count": 11,
   "metadata": {
    "scrolled": true
   },
   "outputs": [
    {
     "data": {
      "image/png": "[encoded data removed]",
      "text/plain": [
       "<Figure size 720x576 with 6 Axes>"
      ]
     },
     "metadata": {
      "needs_background": "light"
     },
     "output_type": "display_data"
    }
   ],
   "source": [
    "plt.subplot(231)\n",
    "data.pathrise_status.value_counts(normalize=True).plot(kind = 'bar', title = \"pathrise_status \",figsize=(10,8))\n",
    "plt.tight_layout(pad=0.5)\n",
    "\n",
    "plt.subplot(232)\n",
    "data.primary_track.value_counts(normalize=True).plot(kind = 'bar', title = \"primary_track\")\n",
    "plt.tight_layout(pad=0.5)\n",
    "\n",
    "plt.subplot(233)\n",
    "data.work_authorization_status.value_counts(normalize=True).plot(kind = 'bar', title = \"work_authorization_status\")\n",
    "plt.tight_layout(pad=0.5)\n",
    "\n",
    "plt.subplot(234)\n",
    "data.highest_level_of_education.value_counts(normalize=True).plot(kind = 'bar',title = \"highest_level_of_education\")\n",
    "plt.tight_layout(pad=0.5)\n",
    "\n",
    "plt.subplot(235)\n",
    "data.gender.value_counts(normalize=True).plot(kind = 'bar',title = \"gender\")\n",
    "plt.tight_layout(pad=0.5)\n",
    "\n",
    "plt.subplot(236)\n",
    "data.race.value_counts(normalize=True).plot(kind = 'bar',title = \"race\")\n",
    "plt.tight_layout(pad=0.5)\n",
    "\n"
   ]
  },
  {
   "cell_type": "code",
   "execution_count": 12,
   "metadata": {},
   "outputs": [
    {
     "data": {
      "text/plain": [
       "0.0      217\n",
       "13.0      34\n",
       "11.0      27\n",
       "12.0      25\n",
       "14.0      22\n",
       "        ... \n",
       "283.0      1\n",
       "205.0      1\n",
       "262.0      1\n",
       "350.0      1\n",
       "519.0      1\n",
       "Name: program_duration_days, Length: 411, dtype: int64"
      ]
     },
     "execution_count": 12,
     "metadata": {},
     "output_type": "execute_result"
    }
   ],
   "source": [
    "data.program_duration_days.value_counts()"
   ]
  },
  {
   "cell_type": "code",
   "execution_count": 15,
   "metadata": {},
   "outputs": [
    {
     "data": {
      "text/plain": [
       "<matplotlib.axes._subplots.AxesSubplot at 0x15906e250a0>"
      ]
     },
     "execution_count": 15,
     "metadata": {},
     "output_type": "execute_result"
    },
    {
     "data": {
      "image/png": "[encoded data removed]",
      "text/plain": [
       "<Figure size 432x288 with 1 Axes>"
      ]
     },
     "metadata": {
      "needs_background": "light"
     },
     "output_type": "display_data"
    }
   ],
   "source": [
    "#sns.set(rc={'figure.figsize':(11.7,8.27)})\n",
    "sns.countplot(x=\"gender\", hue='placed', data=data)\n"
   ]
  },
  {
   "cell_type": "code",
   "execution_count": 16,
   "metadata": {},
   "outputs": [
    {
     "data": {
      "text/plain": [
       "<matplotlib.axes._subplots.AxesSubplot at 0x15906e86040>"
      ]
     },
     "execution_count": 16,
     "metadata": {},
     "output_type": "execute_result"
    },
    {
     "data": {
      "image/png": "[encoded data removed]",
      "text/plain": [
       "<Figure size 432x288 with 1 Axes>"
      ]
     },
     "metadata": {
      "needs_background": "light"
     },
     "output_type": "display_data"
    }
   ],
   "source": [
    "sns.countplot(x=\"race\", hue='placed', data=data)\n"
   ]
  },
  {
   "cell_type": "code",
   "execution_count": 17,
   "metadata": {},
   "outputs": [
    {
     "data": {
      "text/plain": [
       "<matplotlib.axes._subplots.AxesSubplot at 0x15906e86940>"
      ]
     },
     "execution_count": 17,
     "metadata": {},
     "output_type": "execute_result"
    },
    {
     "data": {
      "image/png": "[encoded data removed]",
      "text/plain": [
       "<Figure size 432x288 with 1 Axes>"
      ]
     },
     "metadata": {
      "needs_background": "light"
     },
     "output_type": "display_data"
    }
   ],
   "source": [
    "sns.countplot(x=\"highest_level_of_education\", hue='placed', data=data)\n"
   ]
  },
  {
   "cell_type": "code",
   "execution_count": 18,
   "metadata": {},
   "outputs": [
    {
     "data": {
      "text/plain": [
       "<matplotlib.axes._subplots.AxesSubplot at 0x15906f94130>"
      ]
     },
     "execution_count": 18,
     "metadata": {},
     "output_type": "execute_result"
    },
    {
     "data": {
      "image/png": "[encoded data removed]",
      "text/plain": [
       "<Figure size 432x288 with 1 Axes>"
      ]
     },
     "metadata": {
      "needs_background": "light"
     },
     "output_type": "display_data"
    }
   ],
   "source": [
    "sns.countplot(x=\"professional_experience\", hue='placed', data=data)\n"
   ]
  },
  {
   "cell_type": "code",
   "execution_count": 19,
   "metadata": {},
   "outputs": [
    {
     "data": {
      "text/plain": [
       "<matplotlib.axes._subplots.AxesSubplot at 0x15906aeed90>"
      ]
     },
     "execution_count": 19,
     "metadata": {},
     "output_type": "execute_result"
    },
    {
     "data": {
      "image/png": "[encoded data removed]",
      "text/plain": [
       "<Figure size 432x288 with 1 Axes>"
      ]
     },
     "metadata": {
      "needs_background": "light"
     },
     "output_type": "display_data"
    }
   ],
   "source": [
    "sns.countplot(x=\"work_authorization_status\", hue='placed', data=data)\n"
   ]
  },
  {
   "cell_type": "code",
   "execution_count": 20,
   "metadata": {},
   "outputs": [
    {
     "data": {
      "text/plain": [
       "<matplotlib.axes._subplots.AxesSubplot at 0x15906445160>"
      ]
     },
     "execution_count": 20,
     "metadata": {},
     "output_type": "execute_result"
    },
    {
     "data": {
      "image/png": "[encoded data removed]",
      "text/plain": [
       "<Figure size 432x288 with 1 Axes>"
      ]
     },
     "metadata": {
      "needs_background": "light"
     },
     "output_type": "display_data"
    }
   ],
   "source": [
    "sns.countplot(x=\"primary_track\", hue='placed', data=data)"
   ]
  },
  {
   "cell_type": "markdown",
   "metadata": {},
   "source": [
    "\n",
    "\n"
   ]
  },
  {
   "cell_type": "code",
   "execution_count": 21,
   "metadata": {},
   "outputs": [
    {
     "data": {
      "text/html": [
       "<div>\n",
       "<style scoped>\n",
       "    .dataframe tbody tr th:only-of-type {\n",
       "        vertical-align: middle;\n",
       "    }\n",
       "\n",
       "    .dataframe tbody tr th {\n",
       "        vertical-align: top;\n",
       "    }\n",
       "\n",
       "    .dataframe thead th {\n",
       "        text-align: right;\n",
       "    }\n",
       "</style>\n",
       "<table border=\"1\" class=\"dataframe\">\n",
       "  <thead>\n",
       "    <tr style=\"text-align: right;\">\n",
       "      <th></th>\n",
       "      <th>id</th>\n",
       "      <th>program_duration_days</th>\n",
       "      <th>placed</th>\n",
       "      <th>number_of_interviews</th>\n",
       "      <th>number_of_applications</th>\n",
       "    </tr>\n",
       "  </thead>\n",
       "  <tbody>\n",
       "    <tr>\n",
       "      <th>id</th>\n",
       "      <td>1.000000</td>\n",
       "      <td>0.041449</td>\n",
       "      <td>-0.035391</td>\n",
       "      <td>-0.015318</td>\n",
       "      <td>-0.072675</td>\n",
       "    </tr>\n",
       "    <tr>\n",
       "      <th>program_duration_days</th>\n",
       "      <td>0.041449</td>\n",
       "      <td>1.000000</td>\n",
       "      <td>0.197222</td>\n",
       "      <td>-0.065043</td>\n",
       "      <td>-0.064783</td>\n",
       "    </tr>\n",
       "    <tr>\n",
       "      <th>placed</th>\n",
       "      <td>-0.035391</td>\n",
       "      <td>0.197222</td>\n",
       "      <td>1.000000</td>\n",
       "      <td>-0.007156</td>\n",
       "      <td>-0.028364</td>\n",
       "    </tr>\n",
       "    <tr>\n",
       "      <th>number_of_interviews</th>\n",
       "      <td>-0.015318</td>\n",
       "      <td>-0.065043</td>\n",
       "      <td>-0.007156</td>\n",
       "      <td>1.000000</td>\n",
       "      <td>0.071406</td>\n",
       "    </tr>\n",
       "    <tr>\n",
       "      <th>number_of_applications</th>\n",
       "      <td>-0.072675</td>\n",
       "      <td>-0.064783</td>\n",
       "      <td>-0.028364</td>\n",
       "      <td>0.071406</td>\n",
       "      <td>1.000000</td>\n",
       "    </tr>\n",
       "  </tbody>\n",
       "</table>\n",
       "</div>"
      ],
      "text/plain": [
       "                              id  program_duration_days    placed  \\\n",
       "id                      1.000000               0.041449 -0.035391   \n",
       "program_duration_days   0.041449               1.000000  0.197222   \n",
       "placed                 -0.035391               0.197222  1.000000   \n",
       "number_of_interviews   -0.015318              -0.065043 -0.007156   \n",
       "number_of_applications -0.072675              -0.064783 -0.028364   \n",
       "\n",
       "                        number_of_interviews  number_of_applications  \n",
       "id                                 -0.015318               -0.072675  \n",
       "program_duration_days              -0.065043               -0.064783  \n",
       "placed                             -0.007156               -0.028364  \n",
       "number_of_interviews                1.000000                0.071406  \n",
       "number_of_applications              0.071406                1.000000  "
      ]
     },
     "execution_count": 21,
     "metadata": {},
     "output_type": "execute_result"
    },
    {
     "data": {
      "image/png": "[encoded data removed]",
      "text/plain": [
       "<Figure size 720x432 with 2 Axes>"
      ]
     },
     "metadata": {
      "needs_background": "light"
     },
     "output_type": "display_data"
    }
   ],
   "source": [
    "matrix = data.corr()\n",
    "f, ax = plt.subplots(figsize=(10,6))\n",
    "sns.heatmap(matrix, vmax=1,cmap=\"PuRd\",annot=True)\n",
    "\n",
    "matrix"
   ]
  },
  {
   "cell_type": "code",
   "execution_count": 22,
   "metadata": {},
   "outputs": [
    {
     "name": "stdout",
     "output_type": "stream",
     "text": [
      "0.0565038582710225\n",
      "0.09626776875489286\n",
      "0.04152603541568362\n",
      "0.032241611205785586\n",
      "0.0\n",
      "0.0\n"
     ]
    }
   ],
   "source": [
    "def cramers_v(x, y):\n",
    "    confusion_matrix = pd.crosstab(x,y)\n",
    "    chi2 = ss.chi2_contingency(confusion_matrix)[0]\n",
    "    n = confusion_matrix.sum().sum()\n",
    "    phi2 = chi2/n\n",
    "    r,k = confusion_matrix.shape\n",
    "    phi2corr = max(0, phi2-((k-1)*(r-1))/(n-1))\n",
    "    rcorr = r-((r-1)**2)/(n-1)\n",
    "    kcorr = k-((k-1)**2)/(n-1)\n",
    "    return np.sqrt(phi2corr/min((kcorr-1),(rcorr-1)))\n",
    "\n",
    "#matrix = cramers_v(data)\n",
    "val = cramers_v(data['placed'],data['gender'])\n",
    "print(val)\n",
    "val1 = cramers_v(data['placed'],data['race'])\n",
    "print(val1)\n",
    "val2 = cramers_v(data['placed'],data['highest_level_of_education'])\n",
    "print(val2)\n",
    "val3 = cramers_v(data['placed'],data['length_of_job_search'])\n",
    "print(val3)\n",
    "val4 = cramers_v(data['placed'],data['professional_experience'])\n",
    "print(val4)\n",
    "val5 = cramers_v(data['placed'],data['work_authorization_status'])\n",
    "print(val5)"
   ]
  },
  {
   "cell_type": "code",
   "execution_count": null,
   "metadata": {
    "scrolled": true
   },
   "outputs": [],
   "source": []
  },
  {
   "cell_type": "markdown",
   "metadata": {},
   "source": [
    "# Predictive Analytics"
   ]
  },
  {
   "cell_type": "markdown",
   "metadata": {},
   "source": [
    "We have two learning task in this project, predicting the length of program duration for each applicant and predicting\n",
    "\n",
    "the placement or otherwise of an applicant. These are regression and classification problems respectively. We try to use\n",
    "\n",
    "the other variables to predict these two variables but before we can build our prediction models we must first determine the\n",
    "\n",
    "relative importance of our other variables in predicting each of these two target variables. We use three methods to determine\n",
    "\n",
    "important variables for our models resulting in a collection of 6 subset of features 3 for classification and 3 for regression\n",
    "\n",
    "on which we build our learning models. The details of these are given below.\n",
    "\n"
   ]
  },
  {
   "cell_type": "markdown",
   "metadata": {},
   "source": [
    "## Preprocessing"
   ]
  },
  {
   "cell_type": "markdown",
   "metadata": {},
   "source": [
    "There are two preprocessing step we must carry out before we begin to derive insight from the data \n",
    "\n",
    "using statistical and learning algorithms. The first is imputation of missing values and the second is \n",
    "\n",
    "encoding of categorical data. we find from a previous step in the exploratory data analysis section that\n",
    "\n",
    "most of the variables in the datasets have missing values. These missing values presents some difficulty\n",
    "\n",
    "to some algorithms so the practice is to find a good way to deal with them. The other problem with the raw\n",
    "\n",
    "dataset is the presence of non-float or int values in the categorical variables. This also present difficulties\n",
    "\n",
    "for some algorithms that have been designed to work only with floats and int. We must resolve these two issues \n",
    "\n",
    "before we proceed.  Generally there are two options to resolve missing values issues, the first is to discard rows \n",
    "\n",
    "with missing values and the second is to find some way of setting those missing values to reasonable values. \n",
    "\n",
    "In the present case as can be seen below removing entire rows with NaN or missing values leaves us with a \n",
    "\n",
    "significantly smaller amount of total number of samples. The number of samples was reduced to around 988 from\n",
    "\n",
    "about 2544 when we discarded samples with missing values. This is a very big loss of valuable data. A better approach \n",
    "\n",
    "would be to fill in the missing values with reasonable values. In this case we choose to input them with the modal\n",
    "\n",
    "values from each categorical variable or the mean of each numerical variable. This seem very much like a reasonable thing \n",
    "\n",
    "to do and is easily accomplished. Granted there are other more sophisticated methods of missing value inputation that\n",
    "\n",
    "we may use this method is very straighforward and intutive. The second problem with the raw dataset is solved by way of \n",
    "\n",
    "integer encoding for instance rather than have 'Male' and  'Female' in the gender variable we may choose to encode\n",
    "\n",
    "them with the integers 1 and 0 respectively. Doing so for all other categorical variables resolves the issues with\n",
    "\n",
    "non-float or non-int variable values. We make these two changes to our datasets and obtain a dataset that is ready for \n",
    "\n",
    "modelling."
   ]
  },
  {
   "cell_type": "code",
   "execution_count": 62,
   "metadata": {},
   "outputs": [
    {
     "name": "stdout",
     "output_type": "stream",
     "text": [
      "<class 'pandas.core.frame.DataFrame'>\n",
      "RangeIndex: 2544 entries, 0 to 2543\n",
      "Data columns (total 16 columns):\n",
      " #   Column                       Non-Null Count  Dtype  \n",
      "---  ------                       --------------  -----  \n",
      " 0   id                           2544 non-null   int64  \n",
      " 1   pathrise_status              2544 non-null   object \n",
      " 2   primary_track                2544 non-null   object \n",
      " 3   cohort_tag                   2536 non-null   object \n",
      " 4   program_duration_days        1928 non-null   float64\n",
      " 5   placed                       2544 non-null   int64  \n",
      " 6   employment_status            2315 non-null   object \n",
      " 7   highest_level_of_education   2486 non-null   object \n",
      " 8   length_of_job_search         2470 non-null   object \n",
      " 9   biggest_challenge_in_search  2520 non-null   object \n",
      " 10  professional_experience      2322 non-null   object \n",
      " 11  work_authorization_status    2260 non-null   object \n",
      " 12  number_of_interviews         2326 non-null   float64\n",
      " 13  number_of_applications       2544 non-null   int64  \n",
      " 14  gender                       2052 non-null   object \n",
      " 15  race                         2526 non-null   object \n",
      "dtypes: float64(2), int64(3), object(11)\n",
      "memory usage: 318.1+ KB\n"
     ]
    }
   ],
   "source": [
    "import numpy as np\n",
    "import pandas as pd\n",
    "import matplotlib.pyplot as plt\n",
    "import seaborn as sns\n",
    "from collections import defaultdict\n",
    "import scipy.stats as ss\n",
    "from sklearn.model_selection import train_test_split\n",
    "%matplotlib inline\n",
    "\n",
    "import warnings \n",
    "warnings.filterwarnings('ignore')\n",
    "import pandas.util.testing as tm\n",
    "\n",
    "\n",
    "data = pd.read_excel('Data_Pathrise.xlsx')\n",
    "\n",
    "data3=data\n",
    "data3.info()"
   ]
  },
  {
   "cell_type": "code",
   "execution_count": 63,
   "metadata": {},
   "outputs": [
    {
     "name": "stdout",
     "output_type": "stream",
     "text": [
      "<class 'pandas.core.frame.DataFrame'>\n",
      "Int64Index: 988 entries, 2 to 2543\n",
      "Data columns (total 16 columns):\n",
      " #   Column                       Non-Null Count  Dtype  \n",
      "---  ------                       --------------  -----  \n",
      " 0   id                           988 non-null    int64  \n",
      " 1   pathrise_status              988 non-null    object \n",
      " 2   primary_track                988 non-null    object \n",
      " 3   cohort_tag                   988 non-null    object \n",
      " 4   program_duration_days        988 non-null    float64\n",
      " 5   placed                       988 non-null    int64  \n",
      " 6   employment_status            988 non-null    object \n",
      " 7   highest_level_of_education   988 non-null    object \n",
      " 8   length_of_job_search         988 non-null    object \n",
      " 9   biggest_challenge_in_search  988 non-null    object \n",
      " 10  professional_experience      988 non-null    object \n",
      " 11  work_authorization_status    988 non-null    object \n",
      " 12  number_of_interviews         988 non-null    float64\n",
      " 13  number_of_applications       988 non-null    int64  \n",
      " 14  gender                       988 non-null    object \n",
      " 15  race                         988 non-null    object \n",
      "dtypes: float64(2), int64(3), object(11)\n",
      "memory usage: 131.2+ KB\n"
     ]
    }
   ],
   "source": [
    "data4=data3.dropna()\n",
    "data4.info()\n"
   ]
  },
  {
   "cell_type": "code",
   "execution_count": 64,
   "metadata": {},
   "outputs": [
    {
     "name": "stdout",
     "output_type": "stream",
     "text": [
      "East Asian or Asian American\n",
      "<class 'pandas.core.frame.DataFrame'>\n",
      "RangeIndex: 2544 entries, 0 to 2543\n",
      "Data columns (total 16 columns):\n",
      " #   Column                       Non-Null Count  Dtype  \n",
      "---  ------                       --------------  -----  \n",
      " 0   id                           2544 non-null   int64  \n",
      " 1   pathrise_status              2544 non-null   object \n",
      " 2   primary_track                2544 non-null   object \n",
      " 3   cohort_tag                   2544 non-null   object \n",
      " 4   program_duration_days        2544 non-null   float64\n",
      " 5   placed                       2544 non-null   int64  \n",
      " 6   highest_level_of_education   2544 non-null   object \n",
      " 7   length_of_job_search         2544 non-null   object \n",
      " 8   biggest_challenge_in_search  2544 non-null   object \n",
      " 9   professional_experience      2544 non-null   object \n",
      " 10  work_authorization_status    2544 non-null   object \n",
      " 11  number_of_interviews         2544 non-null   float64\n",
      " 12  number_of_applications       2544 non-null   int64  \n",
      " 13  gender                       2544 non-null   object \n",
      " 14  race                         2544 non-null   object \n",
      " 15  emp_stat                     2544 non-null   object \n",
      "dtypes: float64(2), int64(3), object(11)\n",
      "memory usage: 318.1+ KB\n",
      "<class 'pandas.core.frame.DataFrame'>\n",
      "RangeIndex: 2544 entries, 0 to 2543\n",
      "Data columns (total 16 columns):\n",
      " #   Column                       Non-Null Count  Dtype  \n",
      "---  ------                       --------------  -----  \n",
      " 0   id                           2544 non-null   int64  \n",
      " 1   pathrise_status              2544 non-null   object \n",
      " 2   primary_track                2544 non-null   object \n",
      " 3   cohort_tag                   2544 non-null   object \n",
      " 4   program_duration_days        2544 non-null   float64\n",
      " 5   placed                       2544 non-null   int64  \n",
      " 6   highest_level_of_education   2544 non-null   object \n",
      " 7   length_of_job_search         2544 non-null   object \n",
      " 8   biggest_challenge_in_search  2544 non-null   object \n",
      " 9   professional_experience      2544 non-null   object \n",
      " 10  work_authorization_status    2544 non-null   object \n",
      " 11  number_of_interviews         2544 non-null   float64\n",
      " 12  number_of_applications       2544 non-null   int64  \n",
      " 13  gender                       2544 non-null   object \n",
      " 14  race                         2544 non-null   object \n",
      " 15  emp_stat                     2544 non-null   object \n",
      "dtypes: float64(2), int64(3), object(11)\n",
      "memory usage: 318.1+ KB\n"
     ]
    }
   ],
   "source": [
    "data5=data3.drop(data3.columns[6], axis=1)\n",
    "data5['emp_stat']=data3.iloc[:,6]\n",
    "\n",
    "data3=data5\n",
    "\n",
    "dfmode=data3.mode().head(1)\n",
    "print(dfmode.race[0])\n",
    "data3 = data3.fillna({\"race\": dfmode.race[0]})\n",
    "data3 = data3.fillna({\"gender\": dfmode.gender[0]})\n",
    "data3 = data3.fillna({\"number_of_interviews\": dfmode.number_of_interviews[0]})\n",
    "data3 = data3.fillna({\"number_of_applications\": dfmode.number_of_applications[0]})\n",
    "\n",
    "\n",
    "data3 = data3.fillna({\"work_authorization_status\": dfmode.work_authorization_status[0]})\n",
    "data3 = data3.fillna({\"professional_experience\": dfmode.professional_experience[0]})\n",
    "data3 = data3.fillna({\"biggest_challenge_in_search\": dfmode.biggest_challenge_in_search[0]})\n",
    "data3 = data3.fillna({\"length_of_job_search\": dfmode.length_of_job_search[0]})\n",
    "\n",
    "data3 = data3.fillna({\"highest_level_of_education\": dfmode.highest_level_of_education[0]})\n",
    "data3 = data3.fillna({\"emp_stat\": dfmode.emp_stat[0]})\n",
    "data3 = data3.fillna({\"program_duration_days\": dfmode.program_duration_days[0]})\n",
    "data3 = data3.fillna({\"cohort_tag\": dfmode.cohort_tag[0]})\n",
    "\n",
    "data3.info()\n",
    "\n",
    "\n",
    "\n",
    "data3.info()\n",
    "data3.to_csv(\"Data_Pathrise2.csv\", index=False)"
   ]
  },
  {
   "cell_type": "markdown",
   "metadata": {},
   "source": [
    "## Encoding of categorical variables"
   ]
  },
  {
   "cell_type": "code",
   "execution_count": 65,
   "metadata": {},
   "outputs": [
    {
     "data": {
      "text/html": [
       "<div>\n",
       "<style scoped>\n",
       "    .dataframe tbody tr th:only-of-type {\n",
       "        vertical-align: middle;\n",
       "    }\n",
       "\n",
       "    .dataframe tbody tr th {\n",
       "        vertical-align: top;\n",
       "    }\n",
       "\n",
       "    .dataframe thead th {\n",
       "        text-align: right;\n",
       "    }\n",
       "</style>\n",
       "<table border=\"1\" class=\"dataframe\">\n",
       "  <thead>\n",
       "    <tr style=\"text-align: right;\">\n",
       "      <th></th>\n",
       "      <th>id</th>\n",
       "      <th>pathrise_status</th>\n",
       "      <th>primary_track</th>\n",
       "      <th>cohort_tag</th>\n",
       "      <th>program_duration_days</th>\n",
       "      <th>placed</th>\n",
       "      <th>highest_level_of_education</th>\n",
       "      <th>length_of_job_search</th>\n",
       "      <th>biggest_challenge_in_search</th>\n",
       "      <th>professional_experience</th>\n",
       "      <th>work_authorization_status</th>\n",
       "      <th>number_of_interviews</th>\n",
       "      <th>number_of_applications</th>\n",
       "      <th>gender</th>\n",
       "      <th>race</th>\n",
       "      <th>emp_stat</th>\n",
       "    </tr>\n",
       "  </thead>\n",
       "  <tbody>\n",
       "    <tr>\n",
       "      <th>0</th>\n",
       "      <td>1</td>\n",
       "      <td>0</td>\n",
       "      <td>4</td>\n",
       "      <td>39</td>\n",
       "      <td>0.0</td>\n",
       "      <td>0</td>\n",
       "      <td>0</td>\n",
       "      <td>1</td>\n",
       "      <td>5</td>\n",
       "      <td>1</td>\n",
       "      <td>0</td>\n",
       "      <td>2.0</td>\n",
       "      <td>900</td>\n",
       "      <td>2</td>\n",
       "      <td>6</td>\n",
       "      <td>4</td>\n",
       "    </tr>\n",
       "    <tr>\n",
       "      <th>1</th>\n",
       "      <td>2</td>\n",
       "      <td>0</td>\n",
       "      <td>3</td>\n",
       "      <td>20</td>\n",
       "      <td>0.0</td>\n",
       "      <td>0</td>\n",
       "      <td>5</td>\n",
       "      <td>1</td>\n",
       "      <td>2</td>\n",
       "      <td>0</td>\n",
       "      <td>1</td>\n",
       "      <td>6.0</td>\n",
       "      <td>0</td>\n",
       "      <td>2</td>\n",
       "      <td>6</td>\n",
       "      <td>4</td>\n",
       "    </tr>\n",
       "    <tr>\n",
       "      <th>2</th>\n",
       "      <td>3</td>\n",
       "      <td>2</td>\n",
       "      <td>1</td>\n",
       "      <td>7</td>\n",
       "      <td>0.0</td>\n",
       "      <td>0</td>\n",
       "      <td>4</td>\n",
       "      <td>3</td>\n",
       "      <td>1</td>\n",
       "      <td>3</td>\n",
       "      <td>1</td>\n",
       "      <td>0.0</td>\n",
       "      <td>0</td>\n",
       "      <td>2</td>\n",
       "      <td>2</td>\n",
       "      <td>2</td>\n",
       "    </tr>\n",
       "    <tr>\n",
       "      <th>3</th>\n",
       "      <td>4</td>\n",
       "      <td>2</td>\n",
       "      <td>3</td>\n",
       "      <td>7</td>\n",
       "      <td>0.0</td>\n",
       "      <td>0</td>\n",
       "      <td>0</td>\n",
       "      <td>3</td>\n",
       "      <td>2</td>\n",
       "      <td>3</td>\n",
       "      <td>1</td>\n",
       "      <td>5.0</td>\n",
       "      <td>25</td>\n",
       "      <td>2</td>\n",
       "      <td>1</td>\n",
       "      <td>0</td>\n",
       "    </tr>\n",
       "    <tr>\n",
       "      <th>4</th>\n",
       "      <td>5</td>\n",
       "      <td>5</td>\n",
       "      <td>4</td>\n",
       "      <td>6</td>\n",
       "      <td>89.0</td>\n",
       "      <td>1</td>\n",
       "      <td>0</td>\n",
       "      <td>0</td>\n",
       "      <td>5</td>\n",
       "      <td>0</td>\n",
       "      <td>3</td>\n",
       "      <td>10.0</td>\n",
       "      <td>100</td>\n",
       "      <td>2</td>\n",
       "      <td>2</td>\n",
       "      <td>4</td>\n",
       "    </tr>\n",
       "  </tbody>\n",
       "</table>\n",
       "</div>"
      ],
      "text/plain": [
       "   id  pathrise_status  primary_track  cohort_tag  program_duration_days  \\\n",
       "0   1                0              4          39                    0.0   \n",
       "1   2                0              3          20                    0.0   \n",
       "2   3                2              1           7                    0.0   \n",
       "3   4                2              3           7                    0.0   \n",
       "4   5                5              4           6                   89.0   \n",
       "\n",
       "   placed  highest_level_of_education  length_of_job_search  \\\n",
       "0       0                           0                     1   \n",
       "1       0                           5                     1   \n",
       "2       0                           4                     3   \n",
       "3       0                           0                     3   \n",
       "4       1                           0                     0   \n",
       "\n",
       "   biggest_challenge_in_search  professional_experience  \\\n",
       "0                            5                        1   \n",
       "1                            2                        0   \n",
       "2                            1                        3   \n",
       "3                            2                        3   \n",
       "4                            5                        0   \n",
       "\n",
       "   work_authorization_status  number_of_interviews  number_of_applications  \\\n",
       "0                          0                   2.0                     900   \n",
       "1                          1                   6.0                       0   \n",
       "2                          1                   0.0                       0   \n",
       "3                          1                   5.0                      25   \n",
       "4                          3                  10.0                     100   \n",
       "\n",
       "   gender  race  emp_stat  \n",
       "0       2     6         4  \n",
       "1       2     6         4  \n",
       "2       2     2         2  \n",
       "3       2     1         0  \n",
       "4       2     2         4  "
      ]
     },
     "execution_count": 65,
     "metadata": {},
     "output_type": "execute_result"
    }
   ],
   "source": [
    "#data3[\"race\"] = data3[\"race\"].astype('category')\n",
    "#data3.dtypes\n",
    "#data3[\"race\"] = data3[\"race\"].cat.codes\n",
    "\n",
    "for c in [\"emp_stat\",\"placed\",\"race\",\"gender\",\"work_authorization_status\",\"professional_experience\",\"biggest_challenge_in_search\",\"length_of_job_search\",\"highest_level_of_education\",\"cohort_tag\",\"primary_track\",\"pathrise_status\"]:\n",
    "\n",
    "          data3[c] = data3[c].astype('category')\n",
    "          data3.dtypes\n",
    "          data3[c] = data3[c].cat.codes\n",
    "\n",
    "\n",
    "\n",
    "data3.head()"
   ]
  },
  {
   "cell_type": "code",
   "execution_count": 66,
   "metadata": {},
   "outputs": [
    {
     "name": "stdout",
     "output_type": "stream",
     "text": [
      "<class 'pandas.core.frame.DataFrame'>\n",
      "RangeIndex: 2544 entries, 0 to 2543\n",
      "Data columns (total 16 columns):\n",
      " #   Column                       Non-Null Count  Dtype  \n",
      "---  ------                       --------------  -----  \n",
      " 0   id                           2544 non-null   int64  \n",
      " 1   pathrise_status              2544 non-null   int8   \n",
      " 2   primary_track                2544 non-null   int8   \n",
      " 3   cohort_tag                   2544 non-null   int8   \n",
      " 4   program_duration_days        2544 non-null   float64\n",
      " 5   placed                       2544 non-null   int8   \n",
      " 6   highest_level_of_education   2544 non-null   int8   \n",
      " 7   length_of_job_search         2544 non-null   int8   \n",
      " 8   biggest_challenge_in_search  2544 non-null   int8   \n",
      " 9   professional_experience      2544 non-null   int8   \n",
      " 10  work_authorization_status    2544 non-null   int8   \n",
      " 11  number_of_interviews         2544 non-null   float64\n",
      " 12  number_of_applications       2544 non-null   int64  \n",
      " 13  gender                       2544 non-null   int8   \n",
      " 14  race                         2544 non-null   int8   \n",
      " 15  emp_stat                     2544 non-null   int8   \n",
      "dtypes: float64(2), int64(2), int8(12)\n",
      "memory usage: 109.4 KB\n"
     ]
    }
   ],
   "source": [
    "data3[data3.isnull().any(axis=1)]\n",
    "data3.info()"
   ]
  },
  {
   "cell_type": "markdown",
   "metadata": {},
   "source": [
    "In tne next sections we try to determine the relative importance of our features or variables in predicting the  variables we are interested in. In the next six sections we use three methods of feature selection on each of the two classification and regression problems"
   ]
  },
  {
   "cell_type": "markdown",
   "metadata": {},
   "source": [
    "##  Feature  Importance  Classification"
   ]
  },
  {
   "cell_type": "code",
   "execution_count": 92,
   "metadata": {},
   "outputs": [],
   "source": [
    "from sklearn.model_selection import train_test_split\n"
   ]
  },
  {
   "cell_type": "code",
   "execution_count": 93,
   "metadata": {},
   "outputs": [],
   "source": [
    "y=data3['placed']\n",
    "X=data3.drop(columns=['pathrise_status','id','program_duration_days','placed'])\n",
    "\n",
    "X.to_csv(\"Data_Pathrise3.csv\", index=False)\n",
    "X_train, X_test, y_train, y_test = train_test_split(X, y, test_size=0.3,random_state=0)"
   ]
  },
  {
   "cell_type": "code",
   "execution_count": 94,
   "metadata": {
    "scrolled": true
   },
   "outputs": [
    {
     "name": "stdout",
     "output_type": "stream",
     "text": [
      "Training set metrics:\n",
      "Accuracy: 0.9758426966292135\n",
      "Precision: 0.9984496124031008\n",
      "Recall: 0.9387755102040817\n",
      "Accuracy: 0.9780898876404495\n",
      "Test set metrics:\n",
      "Accuracy: 0.6164921465968587\n",
      "Precision: 0.4276729559748428\n",
      "Recall: 0.2518518518518518\n"
     ]
    }
   ],
   "source": [
    "from sklearn.ensemble import RandomForestClassifier\n",
    "from sklearn.metrics import recall_score\n",
    "from sklearn.metrics import recall_score\n",
    "from sklearn.metrics import accuracy_score\n",
    "from sklearn.metrics import precision_score\n",
    "\n",
    "\n",
    "\n",
    "rf=RandomForestClassifier(n_estimators=10,n_jobs=50)\n",
    "rf.fit(X_train, y_train)\n",
    "\n",
    "#print(rf.predict(X_train))\n",
    "\n",
    "\n",
    "print('Training set metrics:')\n",
    "print('Accuracy:', accuracy_score(y_train, rf.predict(X_train)))\n",
    "print('Precision:', precision_score(y_train, rf.predict(X_train)))\n",
    "print('Recall:', recall_score(y_train, rf.predict(X_train)))\n",
    "\n",
    "print('Accuracy:', rf.fit(X_train, y_train).score(X_train,y_train))\n",
    "\n",
    "\n",
    "print('Test set metrics:')\n",
    "print('Accuracy:', accuracy_score(y_test, rf.predict(X_test)))\n",
    "print('Precision:', precision_score(y_test, rf.predict(X_test)))\n",
    "print('Recall:', recall_score(y_test, rf.predict(X_test)))"
   ]
  },
  {
   "cell_type": "code",
   "execution_count": 95,
   "metadata": {},
   "outputs": [],
   "source": [
    "rf.fit(X_train, y_train)\n",
    "\n",
    "col_sorted_by_importance=rf.feature_importances_.argsort()\n",
    "feat_imp=pd.DataFrame({\n",
    "    'cols':X.columns[col_sorted_by_importance],\n",
    "    'imps':rf.feature_importances_[col_sorted_by_importance]\n",
    "})\n"
   ]
  },
  {
   "cell_type": "code",
   "execution_count": 96,
   "metadata": {},
   "outputs": [
    {
     "name": "stdout",
     "output_type": "stream",
     "text": [
      "                           cols      imps\n",
      "11                   cohort_tag  0.171112\n",
      "10       number_of_applications  0.146189\n",
      "9   biggest_challenge_in_search  0.101939\n",
      "8          number_of_interviews  0.097549\n",
      "7                          race  0.087173\n",
      "6          length_of_job_search  0.079620\n",
      "5                      emp_stat  0.077599\n",
      "4     work_authorization_status  0.064575\n",
      "3    highest_level_of_education  0.057551\n",
      "2       professional_experience  0.050740\n",
      "1                 primary_track  0.038730\n",
      "0                        gender  0.027223\n"
     ]
    },
    {
     "data": {
      "image/png": "[encoded data removed]",
      "text/plain": [
       "<Figure size 432x288 with 1 Axes>"
      ]
     },
     "metadata": {
      "needs_background": "light"
     },
     "output_type": "display_data"
    }
   ],
   "source": [
    "feat_imp=feat_imp.sort_values(by='imps',ascending=False)\n",
    "feat_imp.plot.bar(x='cols',y='imps',rot=0)\n",
    "print(feat_imp)"
   ]
  },
  {
   "cell_type": "code",
   "execution_count": 97,
   "metadata": {},
   "outputs": [],
   "source": [
    "X_new1=X[feat_imp.iloc[0:5,0].tolist()]\n",
    "y_new1=y\n",
    "\n",
    "#rf.fit(X_new1, y_new1)\n"
   ]
  },
  {
   "cell_type": "markdown",
   "metadata": {},
   "source": [
    "##  Feature  Importance  Regression"
   ]
  },
  {
   "cell_type": "code",
   "execution_count": 98,
   "metadata": {},
   "outputs": [],
   "source": [
    "from sklearn.ensemble import AdaBoostRegressor"
   ]
  },
  {
   "cell_type": "code",
   "execution_count": 99,
   "metadata": {},
   "outputs": [],
   "source": [
    "\n",
    "y=data3['program_duration_days']\n",
    "X=data3.drop(columns=['pathrise_status','id','program_duration_days','placed'])\n",
    "X_train, X_test, y_train, y_test = train_test_split(X, y,test_size=0.3,random_state=0)\n",
    "\n"
   ]
  },
  {
   "cell_type": "code",
   "execution_count": 100,
   "metadata": {},
   "outputs": [],
   "source": [
    "from sklearn.ensemble import AdaBoostRegressor\n",
    "regr = AdaBoostRegressor(random_state=0, n_estimators=10)\n",
    "#regr.fit(X, y)"
   ]
  },
  {
   "cell_type": "code",
   "execution_count": 101,
   "metadata": {},
   "outputs": [
    {
     "name": "stdout",
     "output_type": "stream",
     "text": [
      "Training set metrics:\n",
      "Explained_variance_score: 0.027002284239204588\n",
      "mean_absolute_error: 109.94685722462143\n",
      "mean_squared_error: 15801.30913300446\n",
      "Test set metrics:\n",
      "Explained_variance_score: 0.03892895884705372\n",
      "mean_absolute_error: 110.29061326121355\n",
      "mean_squared_error: 15763.518845280008\n"
     ]
    }
   ],
   "source": [
    "from sklearn.metrics import explained_variance_score\n",
    "from sklearn.metrics import mean_absolute_error\n",
    "from sklearn.metrics import mean_squared_error\n",
    "\n",
    "\n",
    "regr.fit(X, y)\n",
    "\n",
    "print('Training set metrics:')\n",
    "print('Explained_variance_score:', explained_variance_score(y_train, regr.predict(X_train)))\n",
    "print('mean_absolute_error:', mean_absolute_error(y_train, regr.predict(X_train)))\n",
    "print('mean_squared_error:', mean_squared_error(y_train, regr.predict(X_train)))\n",
    "\n",
    "\n",
    "print('Test set metrics:')\n",
    "\n",
    "print('Explained_variance_score:', explained_variance_score(y_test, regr.predict(X_test)))\n",
    "print('mean_absolute_error:', mean_absolute_error(y_test, regr.predict(X_test)))\n",
    "print('mean_squared_error:', mean_squared_error(y_test, regr.predict(X_test)))\n",
    "\n"
   ]
  },
  {
   "cell_type": "code",
   "execution_count": 102,
   "metadata": {},
   "outputs": [],
   "source": [
    "col_sorted_by_importance=regr.feature_importances_.argsort()\n",
    "feat_imp=pd.DataFrame({\n",
    "    'cols':X.columns[col_sorted_by_importance],\n",
    "    'imps':regr.feature_importances_[col_sorted_by_importance]\n",
    "})\n",
    "\n"
   ]
  },
  {
   "cell_type": "code",
   "execution_count": 103,
   "metadata": {},
   "outputs": [
    {
     "name": "stdout",
     "output_type": "stream",
     "text": [
      "                           cols      imps\n",
      "11                   cohort_tag  0.226172\n",
      "10                         race  0.136154\n",
      "9                        gender  0.135550\n",
      "8   biggest_challenge_in_search  0.107593\n",
      "7    highest_level_of_education  0.084058\n",
      "6        number_of_applications  0.083993\n",
      "5                 primary_track  0.056142\n",
      "4     work_authorization_status  0.048491\n",
      "3          length_of_job_search  0.042365\n",
      "2                      emp_stat  0.041288\n",
      "1          number_of_interviews  0.031858\n",
      "0       professional_experience  0.006335\n"
     ]
    },
    {
     "data": {
      "image/png": "[encoded data removed]",
      "text/plain": [
       "<Figure size 432x288 with 1 Axes>"
      ]
     },
     "metadata": {
      "needs_background": "light"
     },
     "output_type": "display_data"
    }
   ],
   "source": [
    "feat_imp=feat_imp.sort_values(by='imps',ascending=False)\n",
    "feat_imp.plot.bar(x='cols',y='imps',rot=0)\n",
    "print(feat_imp)\n"
   ]
  },
  {
   "cell_type": "code",
   "execution_count": 104,
   "metadata": {},
   "outputs": [],
   "source": [
    "X_new2=X[feat_imp.iloc[0:5,0].tolist()]\n",
    "y_new2=y"
   ]
  },
  {
   "cell_type": "markdown",
   "metadata": {},
   "source": [
    "## Recursive Feature Elimination CV Classification"
   ]
  },
  {
   "cell_type": "code",
   "execution_count": 105,
   "metadata": {},
   "outputs": [],
   "source": [
    "y=data3['placed']\n",
    "X=data3.drop(columns=['pathrise_status','id','program_duration_days','placed'])\n",
    "\n",
    "X.to_csv(\"Data_Pathrise3.csv\", index=False)\n",
    "X_train, X_test, y_train, y_test = train_test_split(X, y, test_size=0.3,random_state=0)\n"
   ]
  },
  {
   "cell_type": "code",
   "execution_count": 106,
   "metadata": {
    "scrolled": true
   },
   "outputs": [
    {
     "name": "stdout",
     "output_type": "stream",
     "text": [
      "[2 1 1 1 1 1 1 1 1 3 1 1]\n",
      "Optimal number of features : 10\n"
     ]
    },
    {
     "data": {
      "image/png": "[encoded data removed]",
      "text/plain": [
       "<Figure size 432x288 with 1 Axes>"
      ]
     },
     "metadata": {
      "needs_background": "light"
     },
     "output_type": "display_data"
    }
   ],
   "source": [
    "import matplotlib.pyplot as plt\n",
    "from sklearn.svm import SVC\n",
    "from sklearn.model_selection import StratifiedKFold\n",
    "from sklearn.feature_selection import RFECV\n",
    "from sklearn.datasets import make_classification\n",
    "from sklearn.ensemble import RandomForestClassifier\n",
    "\n",
    "\n",
    "# Create the RFE object and compute a cross-validated score.\n",
    "svc = SVC(kernel=\"linear\")\n",
    "# The \"accuracy\" scoring is proportional to the number of correct\n",
    "# classifications\n",
    "#rfecv = RFECV(estimator=svc, step=1, cv=StratifiedKFold(2),\n",
    "#              scoring='accuracy')\n",
    "\n",
    "rf=RandomForestClassifier(n_estimators=10,n_jobs=16)\n",
    "\n",
    "\n",
    "rfecv = RFECV(estimator=rf, step=1, cv=StratifiedKFold(2),\n",
    "              scoring='accuracy')\n",
    "\n",
    "rfecv.fit(X, y)\n",
    "\n",
    "print(rfecv.ranking_)\n",
    "x0=rfecv.ranking_\n",
    "\n",
    "a=X.columns.tolist()\n",
    "b=len(a)\n",
    "pda= pd.DataFrame(index=range(b),columns=range(2 ))\n",
    "pda.columns = [ 'p1', 'p2']\n",
    "pda.iloc[:,0]=x0\n",
    "pda.iloc[:,1]=a\n",
    "\n",
    "#print(pda)\n",
    "pda=pda.sort_values(by=['p1'])\n",
    "#print(pda)\n",
    "\n",
    "\n",
    "print(\"Optimal number of features : %d\" % rfecv.n_features_)\n",
    "\n",
    "# Plot number of features VS. cross-validation scores\n",
    "plt.figure()\n",
    "plt.xlabel(\"Number of features selected\")\n",
    "plt.ylabel(\"Cross validation score (nb of correct classifications)\")\n",
    "plt.plot(range(1, len(rfecv.grid_scores_) + 1), rfecv.grid_scores_)\n",
    "plt.show()"
   ]
  },
  {
   "cell_type": "code",
   "execution_count": 107,
   "metadata": {},
   "outputs": [
    {
     "name": "stdout",
     "output_type": "stream",
     "text": [
      "['cohort_tag', 'highest_level_of_education', 'length_of_job_search', 'biggest_challenge_in_search', 'professional_experience', 'work_authorization_status', 'number_of_interviews', 'number_of_applications', 'race', 'emp_stat']\n"
     ]
    }
   ],
   "source": [
    "print(pda.iloc[0:rfecv.n_features_,1].tolist())\n",
    "X_new3=X[pda.iloc[0:rfecv.n_features_,1].tolist()]\n",
    "y_new3=y"
   ]
  },
  {
   "cell_type": "markdown",
   "metadata": {},
   "source": [
    "## Recursive Feature Elimination CV Regression"
   ]
  },
  {
   "cell_type": "code",
   "execution_count": 108,
   "metadata": {},
   "outputs": [],
   "source": [
    "\n",
    "y=data3['program_duration_days']\n",
    "X=data3.drop(columns=['pathrise_status','id','program_duration_days','placed'])\n",
    "\n",
    "X_train, X_test, y_train, y_test = train_test_split(X, y,test_size=0.3,random_state=0)"
   ]
  },
  {
   "cell_type": "code",
   "execution_count": 109,
   "metadata": {},
   "outputs": [
    {
     "name": "stdout",
     "output_type": "stream",
     "text": [
      "[ 9  1  7 11  5 12 10  4  6  3  2  8]\n",
      "Optimal number of features : 1\n"
     ]
    },
    {
     "data": {
      "image/png": "[encoded data removed]",
      "text/plain": [
       "<Figure size 432x288 with 1 Axes>"
      ]
     },
     "metadata": {
      "needs_background": "light"
     },
     "output_type": "display_data"
    }
   ],
   "source": [
    "import matplotlib.pyplot as plt\n",
    "from sklearn.svm import SVC\n",
    "from sklearn.model_selection import StratifiedKFold\n",
    "from sklearn.feature_selection import RFECV\n",
    "from sklearn.datasets import make_classification\n",
    "from sklearn.ensemble import AdaBoostRegressor\n",
    "from sklearn.metrics import mean_absolute_error\n",
    "\n",
    "# Create the RFE object and compute a cross-validated score.\n",
    "regr = AdaBoostRegressor(random_state=0, n_estimators=10)\n",
    "\n",
    "\n",
    "rfecv = RFECV(estimator=regr, step=1,cv=StratifiedKFold(2)   )\n",
    "\n",
    "rfecv.fit(X, y)\n",
    "print(rfecv.ranking_)\n",
    "\n",
    "x0=rfecv.ranking_\n",
    "\n",
    "a=X.columns.tolist()\n",
    "b=len(a)\n",
    "pda= pd.DataFrame(index=range(b),columns=range(2 ))\n",
    "pda.columns = [ 'p1', 'p2']\n",
    "pda.iloc[:,0]=x0\n",
    "pda.iloc[:,1]=a\n",
    "\n",
    "#print(pda)\n",
    "pda=pda.sort_values(by=['p1'])\n",
    "#print(pda)\n",
    "\n",
    "\n",
    "print(\"Optimal number of features : %d\" % rfecv.n_features_)\n",
    "\n",
    "# Plot number of features VS. cross-validation scores\n",
    "plt.figure()\n",
    "plt.xlabel(\"Number of features selected\")\n",
    "plt.ylabel(\"Cross validation score )\")\n",
    "plt.plot(range(1, len(rfecv.grid_scores_) + 1), rfecv.grid_scores_)\n",
    "plt.show()"
   ]
  },
  {
   "cell_type": "code",
   "execution_count": 110,
   "metadata": {},
   "outputs": [
    {
     "name": "stdout",
     "output_type": "stream",
     "text": [
      "['cohort_tag']\n"
     ]
    }
   ],
   "source": [
    "print(pda.iloc[0:rfecv.n_features_,1].tolist())\n",
    "X_new4=X[pda.iloc[0:rfecv.n_features_,1].tolist()]\n",
    "y_new4=y"
   ]
  },
  {
   "cell_type": "markdown",
   "metadata": {},
   "source": [
    "## SelectModel feature selection for Classification"
   ]
  },
  {
   "cell_type": "code",
   "execution_count": 111,
   "metadata": {},
   "outputs": [],
   "source": [
    "from sklearn.feature_selection import SelectFromModel\n",
    "from sklearn.linear_model import LogisticRegression\n",
    "from sklearn.ensemble import RandomForestClassifier\n",
    "from sklearn.ensemble import AdaBoostRegressor\n"
   ]
  },
  {
   "cell_type": "code",
   "execution_count": 112,
   "metadata": {},
   "outputs": [
    {
     "name": "stdout",
     "output_type": "stream",
     "text": [
      "(2544, 12)\n"
     ]
    }
   ],
   "source": [
    "y=data3['placed']\n",
    "\n",
    "X=data3.drop(columns=['pathrise_status','id','program_duration_days','placed'])\n",
    "\n",
    "print(X.shape)\n",
    "\n",
    "X_train, X_test, y_train, y_test = train_test_split(X, y, test_size=0.3,random_state=0)"
   ]
  },
  {
   "cell_type": "code",
   "execution_count": 113,
   "metadata": {},
   "outputs": [
    {
     "data": {
      "text/plain": [
       "(2544, 4)"
      ]
     },
     "execution_count": 113,
     "metadata": {},
     "output_type": "execute_result"
    }
   ],
   "source": [
    "selector = SelectFromModel(estimator=RandomForestClassifier(n_estimators=10,n_jobs=-1)).fit(X, y)\n",
    "X_new5 =selector.transform(X)\n",
    "y_new5=y\n",
    "X_new5.shape\n",
    "\n",
    "\n"
   ]
  },
  {
   "cell_type": "markdown",
   "metadata": {},
   "source": [
    "## SelectModel feature selection for Regression"
   ]
  },
  {
   "cell_type": "code",
   "execution_count": 114,
   "metadata": {},
   "outputs": [],
   "source": [
    "\n",
    "y=data3['program_duration_days']\n",
    "X=data3.drop(columns=['pathrise_status','id','program_duration_days','placed'])\n",
    "\n",
    "X_train, X_test, y_train, y_test = train_test_split(X, y,test_size=0.3,random_state=0)"
   ]
  },
  {
   "cell_type": "code",
   "execution_count": 115,
   "metadata": {},
   "outputs": [
    {
     "data": {
      "text/plain": [
       "(2544, 6)"
      ]
     },
     "execution_count": 115,
     "metadata": {},
     "output_type": "execute_result"
    }
   ],
   "source": [
    "selector = SelectFromModel(estimator=AdaBoostRegressor()).fit(X, y)\n",
    "X_new6 =selector.transform(X)\n",
    "y_new6=y\n",
    "X_new6.shape\n"
   ]
  },
  {
   "cell_type": "markdown",
   "metadata": {},
   "source": [
    "## Hyperparameter Optimization"
   ]
  },
  {
   "cell_type": "code",
   "execution_count": null,
   "metadata": {},
   "outputs": [],
   "source": [
    "After determining the features to include in our classification and regression models we tune the parameters of each model\n",
    "\n",
    "in an Hyperparameter optimization step to further tune the performance of the models. The optimized parameters are used to \n",
    "\n",
    "build the three classification and three rgression models. "
   ]
  },
  {
   "cell_type": "code",
   "execution_count": 116,
   "metadata": {},
   "outputs": [
    {
     "name": "stdout",
     "output_type": "stream",
     "text": [
      "{'max_depth': 0.20762436971034903, 'max_features': 0.7059837919830526, 'min_samples_split': 0.007936688958798113}\n",
      "................................\n"
     ]
    }
   ],
   "source": [
    "# import numpy as np\n",
    "\n",
    "import scipy.stats as stats\n",
    "from sklearn.utils.fixes import loguniform\n",
    "\n",
    "from sklearn.model_selection import GridSearchCV, RandomizedSearchCV\n",
    "from sklearn.datasets import load_digits\n",
    "from sklearn.linear_model import SGDClassifier\n",
    "from sklearn.ensemble import RandomForestClassifier\n",
    "from sklearn.ensemble import AdaBoostRegressor\n",
    "\n",
    "\n",
    "clf = RandomForestClassifier(n_estimators=10,n_jobs=60)\n",
    "clf1 = AdaBoostRegressor(n_estimators=10)\n",
    "\n",
    "\n",
    "# specify parameters and distributions to sample from\n",
    "\n",
    "param_dist1 = {'max_features': stats.uniform(0, 1),\n",
    "              'max_depth': stats.uniform(0, 1),\n",
    "              'min_samples_split': loguniform(1e-4, 1e0)}\n",
    "\n",
    "param_dist2 = {'learning_rate': stats.uniform(0, 1)  }\n",
    "\n",
    "\n",
    "\n",
    "# run randomized search\n",
    "n_iter_search = 20\n",
    "random_search1 = RandomizedSearchCV(clf, param_distributions=param_dist1,\n",
    "                                   n_iter=n_iter_search)\n",
    "\n",
    "random_search2 = RandomizedSearchCV(clf1, param_distributions=param_dist2,\n",
    "                                   n_iter=n_iter_search)\n",
    "\n",
    "random_search3 = RandomizedSearchCV(clf, param_distributions=param_dist1,\n",
    "                                   n_iter=n_iter_search)\n",
    "\n",
    "random_search4 = RandomizedSearchCV(clf1, param_distributions=param_dist2,\n",
    "                                   n_iter=n_iter_search)\n",
    "\n",
    "random_search5 = RandomizedSearchCV(clf, param_distributions=param_dist1,\n",
    "                                   n_iter=n_iter_search)\n",
    "\n",
    "random_search6 = RandomizedSearchCV(clf1, param_distributions=param_dist2,\n",
    "                                   n_iter=n_iter_search)\n",
    "\n",
    "random_search1.fit(X_new1, y_new1)\n",
    "random_search2.fit(X_new2, y_new2)\n",
    "\n",
    "random_search3.fit(X_new3, y_new3)\n",
    "random_search4.fit(X_new4, y_new4)\n",
    "\n",
    "random_search5.fit(X_new5, y_new5)\n",
    "random_search6.fit(X_new6, y_new6)\n",
    "\n",
    "model1_params=random_search1.best_params_\n",
    "model2_params=random_search2.best_params_\n",
    "model3_params=random_search3.best_params_\n",
    "model4_params=random_search4.best_params_\n",
    "model5_params=random_search5.best_params_\n",
    "model6_params=random_search6.best_params_\n",
    "\n",
    "print(model1_params)\n",
    "#print(model2_params)\n",
    "#print(model1_params['max_depth'])\n",
    "\n",
    "print('................................')\n"
   ]
  },
  {
   "cell_type": "markdown",
   "metadata": {},
   "source": [
    "In this section we use the features and parameters determined in the previous two sections to build our learning models\n",
    "\n",
    "determine their key performance metric and save the models to file for later use. While the aim is to use the models \n",
    "\n",
    "developed for future predictions its also possible to obtain prediction probabilities for each new applicant we want to\n",
    "\n",
    "predict outcomes for. For example we may determine that a new applicant to the pathrise program will be placed with a\n",
    "\n",
    "probability of 0.6 or that determine that with probability 0.8 that a new applicant will spend less than 30 days in the\n",
    "\n",
    "program. It would be interesting to find out what these two models predict for the current auther who is also aspiring\n",
    "\n",
    "to be a fellow. This is a task to be taken up later.\n",
    "\n"
   ]
  },
  {
   "cell_type": "markdown",
   "metadata": {},
   "source": [
    "## Final Models,Their Metric and Model Persistence"
   ]
  },
  {
   "cell_type": "code",
   "execution_count": 53,
   "metadata": {},
   "outputs": [
    {
     "name": "stdout",
     "output_type": "stream",
     "text": [
      "Training set metrics:\n",
      "Accuracy: 0.6146067415730337\n",
      "Precision: 0.0\n",
      "Recall: 0.0\n",
      "Test set metrics:\n",
      "Accuracy: 0.6465968586387435\n",
      "Precision: 0.0\n",
      "Recall: 0.0\n"
     ]
    },
    {
     "data": {
      "text/plain": [
       "['model1.joblib']"
      ]
     },
     "execution_count": 53,
     "metadata": {},
     "output_type": "execute_result"
    }
   ],
   "source": [
    "from sklearn import svm\n",
    "from sklearn import datasets\n",
    "from joblib import dump, load\n",
    "from sklearn.metrics import confusion_matrix\n",
    "\n",
    "#model1 \n",
    "\n",
    "X_train, X_test, y_train, y_test = train_test_split(X_new1, y_new1, test_size=0.3,random_state=0)\n",
    "\n",
    "rf=RandomForestClassifier(n_estimators=10,min_samples_split=model1_params['min_samples_split'],max_depth=model1_params['max_depth'],max_features=model1_params['max_features'],n_jobs=16)\n",
    "rf.fit(X_train, y_train)\n",
    "\n",
    "#print(rf.predict(X_train))\n",
    "\n",
    "\n",
    "print('Training set metrics:')\n",
    "print('Accuracy:', accuracy_score(y_train, rf.predict(X_train)))\n",
    "print('Precision:', precision_score(y_train, rf.predict(X_train)))\n",
    "print('Recall:', recall_score(y_train, rf.predict(X_train)))\n",
    "\n",
    "\n",
    "print('Test set metrics:')\n",
    "print('Accuracy:', accuracy_score(y_test, rf.predict(X_test)))\n",
    "print('Precision:', precision_score(y_test, rf.predict(X_test)))\n",
    "print('Recall:', recall_score(y_test, rf.predict(X_test)))\n",
    "\n",
    "confusion_matrix(y_test, rf.predict(X_test))\n",
    "\n",
    "\n",
    "dump(rf, 'model1.joblib')\n",
    "#rf = load('filename.joblib') \n",
    "\n",
    "\n"
   ]
  },
  {
   "cell_type": "code",
   "execution_count": 54,
   "metadata": {},
   "outputs": [
    {
     "name": "stdout",
     "output_type": "stream",
     "text": [
      "Training set metrics:\n",
      "Explained_variance_score: 0.01893744057997393\n",
      "mean_absolute_error: 103.1250297487914\n",
      "mean_squared_error: 15174.960750123817\n",
      "Test set metrics:\n",
      "Explained_variance_score: 0.003735777429738185\n",
      "mean_absolute_error: 103.65963942383758\n",
      "mean_squared_error: 15179.810545149889\n"
     ]
    },
    {
     "data": {
      "text/plain": [
       "['model2.joblib']"
      ]
     },
     "execution_count": 54,
     "metadata": {},
     "output_type": "execute_result"
    }
   ],
   "source": [
    "#model2\n",
    "\n",
    "X_train, X_test, y_train, y_test = train_test_split(X_new2, y_new2, test_size=0.3,random_state=0)\n",
    "regr = AdaBoostRegressor(random_state=0,learning_rate=model2_params['learning_rate'], n_estimators=10)\n",
    "regr.fit(X_train, y_train)\n",
    "\n",
    "print('Training set metrics:')\n",
    "print('Explained_variance_score:', explained_variance_score(y_train, regr.predict(X_train)))\n",
    "print('mean_absolute_error:', mean_absolute_error(y_train, regr.predict(X_train)))\n",
    "print('mean_squared_error:', mean_squared_error(y_train, regr.predict(X_train)))\n",
    "\n",
    "\n",
    "print('Test set metrics:')\n",
    "\n",
    "print('Explained_variance_score:', explained_variance_score(y_test, regr.predict(X_test)))\n",
    "print('mean_absolute_error:', mean_absolute_error(y_test, regr.predict(X_test)))\n",
    "print('mean_squared_error:', mean_squared_error(y_test, regr.predict(X_test)))\n",
    "\n",
    "dump(regr, 'model2.joblib')\n"
   ]
  },
  {
   "cell_type": "code",
   "execution_count": 55,
   "metadata": {},
   "outputs": [
    {
     "name": "stdout",
     "output_type": "stream",
     "text": [
      "Training set metrics:\n",
      "Accuracy: 0.6146067415730337\n",
      "Precision: 0.0\n",
      "Recall: 0.0\n",
      "Test set metrics:\n",
      "Accuracy: 0.6465968586387435\n",
      "Precision: 0.0\n",
      "Recall: 0.0\n"
     ]
    },
    {
     "data": {
      "text/plain": [
       "['model3.joblib']"
      ]
     },
     "execution_count": 55,
     "metadata": {},
     "output_type": "execute_result"
    }
   ],
   "source": [
    "#model3 \n",
    "\n",
    "from sklearn import svm\n",
    "from sklearn import datasets\n",
    "from joblib import dump, load\n",
    "from sklearn.metrics import confusion_matrix\n",
    "\n",
    "\n",
    "\n",
    "X_train, X_test, y_train, y_test = train_test_split(X_new3, y_new3, test_size=0.3,random_state=0)\n",
    "\n",
    "rf=RandomForestClassifier(n_estimators=10,min_samples_split=model3_params['min_samples_split'],max_depth=model3_params['max_depth'],max_features=model3_params['max_features'],n_jobs=16)\n",
    "rf.fit(X_train, y_train)\n",
    "\n",
    "#print(rf.predict(X_train))\n",
    "\n",
    "\n",
    "print('Training set metrics:')\n",
    "print('Accuracy:', accuracy_score(y_train, rf.predict(X_train)))\n",
    "print('Precision:', precision_score(y_train, rf.predict(X_train)))\n",
    "print('Recall:', recall_score(y_train, rf.predict(X_train)))\n",
    "\n",
    "\n",
    "print('Test set metrics:')\n",
    "print('Accuracy:', accuracy_score(y_test, rf.predict(X_test)))\n",
    "print('Precision:', precision_score(y_test, rf.predict(X_test)))\n",
    "print('Recall:', recall_score(y_test, rf.predict(X_test)))\n",
    "\n",
    "confusion_matrix(y_test, rf.predict(X_test))\n",
    "\n",
    "\n",
    "\n",
    "dump(rf, 'model3.joblib')\n",
    "#rf = load('filename.joblib') "
   ]
  },
  {
   "cell_type": "code",
   "execution_count": 56,
   "metadata": {},
   "outputs": [
    {
     "name": "stdout",
     "output_type": "stream",
     "text": [
      "Training set metrics:\n",
      "Explained_variance_score: 0.021386603577778662\n",
      "mean_absolute_error: 102.95411044964396\n",
      "mean_squared_error: 15137.439733624902\n",
      "Test set metrics:\n",
      "Explained_variance_score: 0.02043516668466705\n",
      "mean_absolute_error: 102.47061526627151\n",
      "mean_squared_error: 14937.642943668014\n"
     ]
    },
    {
     "data": {
      "text/plain": [
       "['model4.joblib']"
      ]
     },
     "execution_count": 56,
     "metadata": {},
     "output_type": "execute_result"
    }
   ],
   "source": [
    "#model4\n",
    "\n",
    "X_train, X_test, y_train, y_test = train_test_split(X_new4, y_new4, test_size=0.3,random_state=0)\n",
    "regr = AdaBoostRegressor(random_state=0,learning_rate=model2_params['learning_rate'], n_estimators=10)\n",
    "regr.fit(X_train, y_train)\n",
    "\n",
    "print('Training set metrics:')\n",
    "print('Explained_variance_score:', explained_variance_score(y_train, regr.predict(X_train)))\n",
    "print('mean_absolute_error:', mean_absolute_error(y_train, regr.predict(X_train)))\n",
    "print('mean_squared_error:', mean_squared_error(y_train, regr.predict(X_train)))\n",
    "\n",
    "\n",
    "print('Test set metrics:')\n",
    "\n",
    "print('Explained_variance_score:', explained_variance_score(y_test, regr.predict(X_test)))\n",
    "print('mean_absolute_error:', mean_absolute_error(y_test, regr.predict(X_test)))\n",
    "print('mean_squared_error:', mean_squared_error(y_test, regr.predict(X_test)))\n",
    "\n",
    "dump(regr, 'model4.joblib')\n"
   ]
  },
  {
   "cell_type": "code",
   "execution_count": 57,
   "metadata": {},
   "outputs": [
    {
     "name": "stdout",
     "output_type": "stream",
     "text": [
      "Training set metrics:\n",
      "Accuracy: 0.6146067415730337\n",
      "Precision: 0.0\n",
      "Recall: 0.0\n",
      "Test set metrics:\n",
      "Accuracy: 0.6465968586387435\n",
      "Precision: 0.0\n",
      "Recall: 0.0\n"
     ]
    },
    {
     "data": {
      "text/plain": [
       "['model5.joblib']"
      ]
     },
     "execution_count": 57,
     "metadata": {},
     "output_type": "execute_result"
    }
   ],
   "source": [
    "#model5 \n",
    "\n",
    "from sklearn import svm\n",
    "from sklearn import datasets\n",
    "from joblib import dump, load\n",
    "from sklearn.metrics import confusion_matrix\n",
    "\n",
    "X_train, X_test, y_train, y_test = train_test_split(X_new5, y_new5, test_size=0.3,random_state=0)\n",
    "\n",
    "rf=RandomForestClassifier(n_estimators=10,min_samples_split=model5_params['min_samples_split'],max_depth=model5_params['max_depth'],max_features=model5_params['max_features'],n_jobs=16)\n",
    "rf.fit(X_train, y_train)\n",
    "\n",
    "#print(rf.predict(X_train))\n",
    "\n",
    "\n",
    "print('Training set metrics:')\n",
    "print('Accuracy:', accuracy_score(y_train, rf.predict(X_train)))\n",
    "print('Precision:', precision_score(y_train, rf.predict(X_train)))\n",
    "print('Recall:', recall_score(y_train, rf.predict(X_train)))\n",
    "\n",
    "\n",
    "print('Test set metrics:')\n",
    "print('Accuracy:', accuracy_score(y_test, rf.predict(X_test)))\n",
    "print('Precision:', precision_score(y_test, rf.predict(X_test)))\n",
    "print('Recall:', recall_score(y_test, rf.predict(X_test)))\n",
    "\n",
    "confusion_matrix(y_test, rf.predict(X_test))\n",
    "\n",
    "\n",
    "dump(rf, 'model5.joblib')\n",
    "#rf = load('filename.joblib') "
   ]
  },
  {
   "cell_type": "code",
   "execution_count": 58,
   "metadata": {},
   "outputs": [
    {
     "name": "stdout",
     "output_type": "stream",
     "text": [
      "Training set metrics:\n",
      "Explained_variance_score: 0.017998941642781707\n",
      "mean_absolute_error: 103.40223988736722\n",
      "mean_squared_error: 15190.531493355023\n",
      "Test set metrics:\n",
      "Explained_variance_score: 0.016349902965875462\n",
      "mean_absolute_error: 103.27656937961036\n",
      "mean_squared_error: 15017.867843422966\n"
     ]
    },
    {
     "data": {
      "text/plain": [
       "['model6.joblib']"
      ]
     },
     "execution_count": 58,
     "metadata": {},
     "output_type": "execute_result"
    }
   ],
   "source": [
    "#model6\n",
    "\n",
    "X_train, X_test, y_train, y_test = train_test_split(X_new6, y_new6, test_size=0.3,random_state=0)\n",
    "regr = AdaBoostRegressor(random_state=0,learning_rate=model2_params['learning_rate'], n_estimators=10)\n",
    "regr.fit(X_train, y_train)\n",
    "\n",
    "print('Training set metrics:')\n",
    "print('Explained_variance_score:', explained_variance_score(y_train, regr.predict(X_train)))\n",
    "print('mean_absolute_error:', mean_absolute_error(y_train, regr.predict(X_train)))\n",
    "print('mean_squared_error:', mean_squared_error(y_train, regr.predict(X_train)))\n",
    "\n",
    "\n",
    "print('Test set metrics:')\n",
    "\n",
    "print('Explained_variance_score:', explained_variance_score(y_test, regr.predict(X_test)))\n",
    "print('mean_absolute_error:', mean_absolute_error(y_test, regr.predict(X_test)))\n",
    "print('mean_squared_error:', mean_squared_error(y_test, regr.predict(X_test)))\n",
    "\n",
    "dump(regr, 'model6.joblib')\n"
   ]
  },
  {
   "cell_type": "markdown",
   "metadata": {},
   "source": [
    "## Model Restoration and use to predict new samples"
   ]
  },
  {
   "cell_type": "code",
   "execution_count": 59,
   "metadata": {},
   "outputs": [],
   "source": [
    "from joblib import dump, load\n",
    "\n",
    "model1 = load('model1.joblib')\n",
    "model2 = load('model2.joblib')\n",
    "model3 = load('model3.joblib')\n",
    "model4 = load('model4.joblib')\n",
    "model5 = load('model5.joblib')\n",
    "model6 = load('model6.joblib')\n",
    "\n",
    "#X_newsamples=\n",
    "\n",
    "#model1_prediction = model1.predict(X_newsamples)\n",
    "#model2_prediction = model2.predict(X_newsamples)\n",
    "#model3_prediction = model3.predict(X_newsamples)\n",
    "#model4_prediction = model4.predict(X_newsamples)\n",
    "#model5_prediction = model5.predict(X_newsamples)\n",
    "#model6_prediction = model6.predict(X_newsamples)\n",
    "\n",
    "\n"
   ]
  },
  {
   "cell_type": "markdown",
   "metadata": {},
   "source": [
    "## Conclusion"
   ]
  },
  {
   "cell_type": "markdown",
   "metadata": {},
   "source": [
    "In this project we have gone through all stages of a data mining and/or predictive analytics endeavor aimed at deriving insights from data. We started by loading our given dataset and observing several of it prominent characteristics. we then proceeded to exploratory data analysis which enabled us to get an overview of the dataset as well as obtain further\n",
    "insights into the dataset in visual form by way of graphs, frequency tables etc. These step is a very important step of every data mining endeavor and should be included always. In the next sections we enter the predictive analytics part of the project which involves trying to use the variables in the dataset to predict other variables therein. In this case we would like to predict whether an applicant will be placed or not and the length of time an applicant will spend in the program.\n",
    "\n",
    "The first of this task is a classification problem while the second is a regression problem. By going through the phases of preprocessing, missing values imputation, categorical data encoding, feature importance and selection, hyperparameter optimization, modelling, model evaluation and model persistence we carried out an end to end procedure for all the steps required in predictive analytics. The emphasis in this project is on the procedures and tools available to the data data scientist and machine learing professional rather than on the accuracy of the prediction and statistical models used. \n",
    "However, Possible uses of this sort of analysis may be used to reveal inhenrent and unconcious biase in selection and placement of fellows. It would be interesting to see how the placement rates for Phd fellows compares to the general population of fellows keeping in mind that there may be other factors at play that ultimately decides any one individual's outcome in the program\n",
    "that may not have been presented in the dataset."
   ]
  },
  {
   "cell_type": "markdown",
   "metadata": {},
   "source": [
    "\n",
    "\n",
    "\n",
    "\n",
    "### Adeseye Agbabiaka,Phd"
   ]
  },
  {
   "cell_type": "code",
   "execution_count": null,
   "metadata": {},
   "outputs": [],
   "source": []
  }
 ],
 "metadata": {
  "kernelspec": {
   "display_name": "Python 3",
   "language": "python",
   "name": "python3"
  },
  "language_info": {
   "codemirror_mode": {
    "name": "ipython",
    "version": 3
   },
   "file_extension": ".py",
   "mimetype": "text/x-python",
   "name": "python",
   "nbconvert_exporter": "python",
   "pygments_lexer": "ipython3",
   "version": "3.8.3"
  }
 },
 "nbformat": 4,
 "nbformat_minor": 4
}
